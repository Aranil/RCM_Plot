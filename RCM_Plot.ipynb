{
 "cells": [
  {
   "cell_type": "markdown",
   "id": "0cd757da",
   "metadata": {},
   "source": [
    "# Python Skript für Dynamische Diagramme zur Anzeige von SAR-Parametern für die Überwachung von landwirtschaftlichen Feldern.\n",
    "\n",
    "### Der Zweck dieses Tools ist die kohärente Darstellung mehrerer SAR-Parameter im Zeitverlauf in Verbindung mit Hilfsdaten wie zum Beispiel Wetterdaten. Diese Darstellung soll als Web-App interaktiv gestaltet werden, wofür Streamlit verwendet wurde. Insgesamt werden drei Untersuchungsgebiete in Deutschland abgedeckt. \n",
    "\n",
    "### Ersteller: Markus Adam & Laura Walder\n",
    "\n",
    "\n",
    "Zunächst galt es die entsprechend benötigten Pakete in Python zu installieren, wozu streamlit, pandas, sqlite3 und altair gehören. Anschließend wurde eine Verbindung zu der bereits existierenden Datenbank hergestellt."
   ]
  },
  {
   "cell_type": "code",
   "execution_count": null,
   "id": "0bc413a2",
   "metadata": {},
   "outputs": [],
   "source": [
    "import streamlit as st\n",
    "import pandas as pd\n",
    "import sqlite3\n",
    "import altair as alt\n",
    "\n",
    "# connection to db\n",
    "try:\n",
    "    db = sqlite3.connect(\n",
    "        'C:/Users/Laura/Desktop/UNI/2.Semester/Python_Teil_II/Abschlussprojekt/students_db_sql_queries_3/RCM_work.db')\n",
    "    cursor = db.cursor()\n",
    "    print(\"Successfully Connected to SQLite Database\")\n",
    "except sqlite3.Error as error:\n",
    "    print(\"Error while connecting to Database\", error)"
   ]
  },
  {
   "cell_type": "markdown",
   "id": "be3eb676",
   "metadata": {},
   "source": [
    "Anschließend kann die gewüschte resultierende Web Ansicht konfiguriert werden.\n",
    "Hier wurde sich für ein weites Layout entschieden, sodass die resutierenden Graphen möglichst groß dargestellt werden.\n",
    "Die ensprechenden Python Befehle sind mit streamlit durchgeführt worden und sind durch das vorgestellte \"st.\" zu erkennen.\n",
    "Bei \"st.titel\" und \"st.markdown\" handelt es sich um Print-Befehle mit unterschiedlichen Schriftgrößen:\n",
    "## st.titel\n",
    "### st.markdown\n",
    "Mithilfe von st.markdown('#') wird eine leere Textzeile eingefügt, wodurch ein Absatz erzeugt wird."
   ]
  },
  {
   "cell_type": "code",
   "execution_count": null,
   "id": "a7918597",
   "metadata": {},
   "outputs": [],
   "source": [
    "# set page layout\n",
    "st.set_page_config(layout=\"wide\")\n",
    "\n",
    "# create title and description\n",
    "st.title('Radar Crop Monitor App')\n",
    "st.markdown('This app can be used to display SAR parameters and NDVI values for crop monitoring.')\n",
    "st.markdown(\"Please select the main and dependent filter first and note that displaying the data may take some time.\")\n",
    "st.markdown('#')"
   ]
  },
  {
   "cell_type": "markdown",
   "id": "1885ce60",
   "metadata": {},
   "source": [
    "### Hauptfilter\n",
    "Die Area of Interest (AOI), das Jahr, der Anpflanzungstyp und die gewählte Statistik gilt es als Hauptfilter zu integrieren. \n",
    "Hierfür werden die benötigten Informationen zunächst aus den jeweiligen Spalten aus den verschiedenen Tabellen entnommen und mit entsprechenden Namen definiert. \n",
    "Dies geschieht mit einer \"Datenbankabfrage\" und dem Befehl \"pd.read_sql_query\".\n",
    "Die abhängigen Filter (siehe unten) werden hier ebenfalls schon abgefragt.\n",
    "Durch die SQL Abfrage \"select distinct\" wird sichergestellt, dass Werte (auch wenn sie sich häufig wiederholen) nur einmal eingeladen werden. "
   ]
  },
  {
   "cell_type": "code",
   "execution_count": null,
   "id": "07b6b2a4",
   "metadata": {},
   "outputs": [],
   "source": [
    "# create titles for data filters\n",
    "st.sidebar.title(\"Filters\")\n",
    "st.sidebar.markdown(\"#\")\n",
    "st.sidebar.header('Main Filters')\n",
    "\n",
    "# load values from specific table columns for value selection (filters) by user\n",
    "aoi_names = pd.read_sql_query('select distinct aoi from areaofinterest;', db)\n",
    "years = pd.read_sql_query(\"select distinct year from areaofinterest;\", db)\n",
    "crop_types = pd.read_sql_query(\"select distinct crop_type from croplegend;\", db)\n",
    "products = pd.read_sql_query(\"select distinct product from s1fieldstatistic;\", db)\n",
    "acq_types = pd.read_sql_query(\"select distinct acquisition from s1fieldstatistic;\", db)\n",
    "parameter = pd.read_sql_query(\"select distinct polarization from s1fieldstatistic;\", db)\n",
    "stats = pd.read_sql_query(\"select distinct statistic from s1fieldstatistic;\", db)\n",
    "fid = pd.read_sql_query(\"select distinct fid from areaofinterest;\", db)"
   ]
  },
  {
   "cell_type": "markdown",
   "id": "2eeca4f2",
   "metadata": {},
   "source": [
    "Anschließend können die vier Hauptfilter erstellt werden.\n",
    "Hier wurde sich für ein Drop-Down-Menü entschieden, bei dem jeweils nur ein Wert gewählt werden kann.\n",
    "Dies ist in Streanlit als eine selectbox definiert, in welcher zugleich die Überschrift festgelegt wird."
   ]
  },
  {
   "cell_type": "code",
   "execution_count": null,
   "id": "9ab8da5f",
   "metadata": {},
   "outputs": [],
   "source": [
    "# get single value selections from user\n",
    "aoi_selection = st.sidebar.selectbox(\"AOI\", aoi_names)\n",
    "year_selection = st.sidebar.selectbox(\"Year\", years)\n",
    "crop_selection = st.sidebar.selectbox(\"Crop Type\", crop_types)\n",
    "stat_selection = st.sidebar.selectbox(\"Statistic\", stats)"
   ]
  },
  {
   "cell_type": "markdown",
   "id": "b847964b",
   "metadata": {},
   "source": [
    "### Abhängige Filter\n",
    "Ähnlich wie bei den Haupfiltern werden nun die abhängigen Filter erstellt.\n",
    "Da hier jedoch eine Mehrfachauswahl möglich sein soll wird eine \"mulitselection\" gewählt. "
   ]
  },
  {
   "cell_type": "code",
   "execution_count": null,
   "id": "bfbdd4ae",
   "metadata": {},
   "outputs": [],
   "source": [
    "st.sidebar.markdown('#')\n",
    "st.sidebar.header('Dependent Filters')\n",
    "\n",
    "# get list of multiselections from user\n",
    "acq_selection = tuple(st.sidebar.multiselect(\"Acquisition Mode\", acq_types))\n",
    "product_selection = tuple(st.sidebar.multiselect(\"Product\", products))\n",
    "param_selection = tuple(st.sidebar.multiselect(\"Parameter\", parameter))\n",
    "fid_selection = tuple(st.sidebar.multiselect(\"FID\", fid))\n"
   ]
  },
  {
   "cell_type": "markdown",
   "id": "6396afc8",
   "metadata": {},
   "source": [
    "Letztlich werden in den Seitenteil der Web App unter die Filter noch die Datenquellen und die Erschaffer erwähnt:"
   ]
  },
  {
   "cell_type": "code",
   "execution_count": null,
   "id": "b33331a6",
   "metadata": {},
   "outputs": [],
   "source": [
    "# print data source and contributors\n",
    "st.sidebar.markdown(\"#\")\n",
    "st.sidebar.markdown(\"Data Source: ESA Copernicus-Data\")\n",
    "st.sidebar.markdown(\"Contributors: Markus Adam, Laura Walder\")"
   ]
  },
  {
   "cell_type": "markdown",
   "id": "ea8fcad6",
   "metadata": {},
   "source": [
    "Von den Multiselektionen (das heißt von den abhängigen Filtern) wird anschließend eine Liste erstellt um sie zusammenzufassen.\n",
    "# ????????Grund für Placeholder!!!!!!!!!!!!"
   ]
  },
  {
   "cell_type": "code",
   "execution_count": null,
   "id": "25ba0fd0",
   "metadata": {},
   "outputs": [],
   "source": [
    "# list of multiselections\n",
    "dependent_selections = [acq_selection, product_selection, param_selection, fid_selection]\n",
    "\n",
    "# function to add placeholder to multiselection tuple if len == 1 (prevents syntax error)\n",
    "\n",
    "def placeholders(multiselections):\n",
    "    if len(multiselections) == 1:\n",
    "        multiselections = multiselections + (\"placeholder\",)\n",
    "        return multiselections\n",
    "    else:\n",
    "        return multiselections\n",
    "\n",
    "# apply placeholder function\n",
    "acq_selection = placeholders(acq_selection)\n",
    "param_selection = placeholders(param_selection)\n",
    "product_selection = placeholders(product_selection)\n",
    "fid_selection = placeholders(fid_selection)\n"
   ]
  },
  {
   "cell_type": "markdown",
   "id": "02d58158",
   "metadata": {},
   "source": [
    "### SQL Körper\n",
    "Um dem User nun die Informationen aus der Datenbank zur Auswahl anzubieten, müssen diese zunächst als SQL Abfrage eingeladen werden. Im unteren Teil werden zudem, die benötigten Informationen für die gewählten Filter eingeladen und umbenannt."
   ]
  },
  {
   "cell_type": "code",
   "execution_count": null,
   "id": "8a4ea706",
   "metadata": {},
   "outputs": [],
   "source": [
    "# define sql body\n",
    "sql = f\"\"\"SELECT \n",
    "    round(s1.value, 2) as value, \n",
    "    s1.mask_label, \n",
    "    s1.unit, \n",
    "    s1.aoi, \n",
    "    s1.datetime, \n",
    "    strftime('%Y-%m-%d', s1.datetime) as date,\n",
    "    strftime('%H:%M:%S', s1.datetime) as time,\n",
    "    s1.polarization as parameter, \n",
    "    s1.acquisition, \n",
    "    s1.product,\n",
    "    area.fid, \n",
    "    area.year, \n",
    "    area.sl_nr, \n",
    "    area.crop_type_code, \n",
    "    area.crop_type,\n",
    "    area.field_geom\n",
    "    FROM s1fieldstatistic as s1\n",
    "    INNER JOIN (SELECT \n",
    "    areaofinterest.fid, \n",
    "    areaofinterest.year, \n",
    "    areaofinterest.aoi,\n",
    "    areaofinterest.sl_nr, \n",
    "    areaofinterest.crop_type_code, \n",
    "    crop.crop_type,\n",
    "    areaofinterest.field_geom\n",
    "    FROM areaofinterest\n",
    "    INNER JOIN croplegend as crop \n",
    "    ON (crop.crop_type_code = areaofinterest.crop_type_code)) area\n",
    "    ON (s1.mask_label = area.fid AND strftime('%Y', s1.datetime)=area.year AND s1.aoi = area.aoi)\n",
    "    WHERE \n",
    "    s1.aoi=\"{aoi_selection}\"\n",
    "    AND area.crop_type=\"{crop_selection}\"\n",
    "    AND area.year=\"{year_selection}\"\n",
    "    AND s1.product IN {repr(product_selection)}\n",
    "    AND s1.acquisition IN {repr(acq_selection)}\n",
    "    AND s1.polarization IN {repr(param_selection)}\n",
    "    AND area.fid IN {repr(fid_selection)}\n",
    "    AND s1.statistic = \"{stat_selection}\"\n",
    "    ORDER BY s1.mask_label, s1.datetime  ASC; \"\"\"\n"
   ]
  },
  {
   "cell_type": "markdown",
   "id": "0b48656a",
   "metadata": {},
   "source": [
    "Anschließend werden die Records aus einer Abfrage der Datenbank und dem zuvor definierten SQL Körper definiert"
   ]
  },
  {
   "cell_type": "code",
   "execution_count": null,
   "id": "424e66bf",
   "metadata": {},
   "outputs": [],
   "source": [
    "# load table as df with sql query\n",
    "records = pd.read_sql(sql, db)"
   ]
  },
  {
   "cell_type": "markdown",
   "id": "cf4a1421",
   "metadata": {},
   "source": [
    "Im folgenden wurden zudem Warnungen und Fehlermeldungen definiert.\n",
    "Es soll zu Beginn direkt eine Warnung erscheinen, die den User auffordert Daten auszuwählen, sodass eine entsprechende Graphik dazu erstellt werden kann.\n",
    "Da die Daten jedoch begrenzt sind, sind nicht alle Kombinationen aus den Filtern in den Daten vorhanden, weshalb dem User eine Fehlermeldung mitgeteilt wird, sollte eine Kombination der Filter gewählt worden sein, welche keine Informaionen beinhalten. "
   ]
  },
  {
   "cell_type": "code",
   "execution_count": null,
   "id": "c66bc7b2",
   "metadata": {},
   "outputs": [],
   "source": [
    "# print warning when no filter is selected and error when invalid filter combination (with no data) is selected\n",
    "if records.empty:\n",
    "    if all(len(x) == 0 for x in dependent_selections):\n",
    "        st.warning(\"No selection has been made. Please select filter combinations\")\n",
    "    else:\n",
    "        st.error(\"No data is available with this filter combination. Please select other filter combinations\")"
   ]
  },
  {
   "cell_type": "markdown",
   "id": "711b4f92",
   "metadata": {},
   "source": [
    "Um zudem die Web App optisch zu optimieren wurde ein Expander integriert, durch welchen der Zeitfilter, sowie die Auswahl der Trendlinien \"eingeklappt\" werden kann, wodurch die Graphen weiter nach oben rutschen und die Filter nicht weiter stören.\n",
    "Das heißt alles Folgende, welches mit \"expander.\" beginnt, wird in der Web App \"einklappbar\" sein."
   ]
  },
  {
   "cell_type": "code",
   "execution_count": null,
   "id": "e3b3b94e",
   "metadata": {},
   "outputs": [],
   "source": [
    "# define expander box for time slider and trendline selection\n",
    "expander = st.expander(\"Time and Trendline Filter\", expanded=True)"
   ]
  },
  {
   "cell_type": "markdown",
   "id": "91646492",
   "metadata": {},
   "source": [
    "### Zeitfilter\n",
    "Anschließend gilt es den Zeitfilter zu integrieren. \n",
    "Hierfür wurde die bereits existierende Spalte \"datetime\" aus der Datenbank abgerufen.\n",
    "Mit den Befehlen \"min\" und \"max\" lassen sich nun das frühste und späteste Datum des Datensatzes finden, welche als \"Startdatum\" und \"Enddatum\" definert werden."
   ]
  },
  {
   "cell_type": "code",
   "execution_count": null,
   "id": "1736c32b",
   "metadata": {},
   "outputs": [],
   "source": [
    "# create sliders for time frame selection (start and end date of time series plots)\n",
    "# convert datetime string column to datetime\n",
    "records[\"datetime\"] = pd.to_datetime(records[\"datetime\"])\n",
    "records[\"datetime\"] = pd.to_datetime(records['datetime']).apply(lambda x: x.date())\n",
    "\n",
    "# get earliest and latest date from df as boundaries for slider\n",
    "start_date = records[\"datetime\"].min()\n",
    "end_date = records[\"datetime\"].max()"
   ]
  },
  {
   "cell_type": "markdown",
   "id": "db84dc5f",
   "metadata": {},
   "source": [
    "Dem Zeitfilter werden nun die Eingaben des Users zugeordnen, ein entsprechendes Format (TT.MM.JJ) wird gewählt und die Label bestimmt. Auch hier wird eine Warnung integriert, welche in der Web App erscheint, sobald sie geöffnet wird, da zunächste eine Auswahl der Filter getroffen werden muss, woraufhin dann der bereits gefilterte Datensatz erneut zeitlich gefiltert werden kann."
   ]
  },
  {
   "cell_type": "code",
   "execution_count": null,
   "id": "0e35c0ca",
   "metadata": {},
   "outputs": [],
   "source": [
    "# define slider values from user selection and filter df based on these values\n",
    "try:\n",
    "    expander.subheader(\"Select date range\")\n",
    "    slider_1, slider_2 = expander.slider('', value=(start_date, end_date), format=\"DD.MM.YY\")\n",
    "    records = records[(records['datetime'] > slider_1) & (records['datetime'] < slider_2)]\n",
    "except KeyError:\n",
    "    expander.warning(\"Date range slider is only available after a valid filter combination has been selected\")"
   ]
  },
  {
   "cell_type": "markdown",
   "id": "d78bb3d5",
   "metadata": {},
   "source": [
    "Sobald die Filer von dem User gesetzt wurden, steht der Zeit-Slider zur Verfügung.\n",
    "Start- und Enddatum werden daher nun, abhängig von der Auswahl des Users, neu definiert."
   ]
  },
  {
   "cell_type": "code",
   "execution_count": null,
   "id": "2ded69b7",
   "metadata": {},
   "outputs": [],
   "source": [
    "# get earliest and latest date again from now date-filtered df\n",
    "start_date = records[\"datetime\"].min()\n",
    "end_date = records[\"datetime\"].max()"
   ]
  },
  {
   "cell_type": "markdown",
   "id": "901b6fdb",
   "metadata": {},
   "source": [
    "Anschließend werden dem User statistische Trendlinien zur Auswahl gegeben, wofür im Folgenden die \"Auswahlknöpfe\" erstellt werden. "
   ]
  },
  {
   "cell_type": "code",
   "execution_count": null,
   "id": "b83ff467",
   "metadata": {},
   "outputs": [],
   "source": [
    "# make button for selection of trend line type\n",
    "expander.markdown(\"#\")\n",
    "expander.subheader(\"Select statistic trendline for the graphs\")\n",
    "stat_button = expander.radio(\"\", (\"None\", \"LOESS\", \"Rolling Mean\"))\n",
    "st.markdown(\"#\")"
   ]
  },
  {
   "cell_type": "markdown",
   "id": "728aecd9",
   "metadata": {},
   "source": [
    "Der gefilterte Datensatz soll nun in Graphen dargestellt werden.\n",
    "Hierfür wurde sich für eine Differnzierung nach der Polarisation (VV/VH) bzw. den NDVI Werten entschieden.\n",
    "Entsprechend wurden diese zunächst aus den Records definiert:"
   ]
  },
  {
   "cell_type": "code",
   "execution_count": null,
   "id": "4ba7b606",
   "metadata": {},
   "outputs": [],
   "source": [
    "# filter df by polarisation/value for different plots\n",
    "vv_records = records[records[\"parameter\"] == \"VV\"]\n",
    "vh_records = records[records[\"parameter\"] == \"VH\"]\n",
    "ndvi_records = records[records[\"parameter\"] == \"NDVI\"]\n"
   ]
  },
  {
   "cell_type": "markdown",
   "id": "7f2e9d9e",
   "metadata": {},
   "source": [
    "# ?????"
   ]
  },
  {
   "cell_type": "code",
   "execution_count": null,
   "id": "bb7df774",
   "metadata": {},
   "outputs": [],
   "source": [
    "# set df column by which points are colored\n",
    "selection = alt.selection_multi(fields=['acquisition'], bind='legend')\n",
    "\n",
    "# set domain containing earliest and latest date of dataset, used as boundaries for x-axis of charts\n",
    "domain_pd = pd.to_datetime([start_date, end_date]).astype(int) / 10 ** 6"
   ]
  },
  {
   "cell_type": "markdown",
   "id": "551037aa",
   "metadata": {},
   "source": [
    "### Erstellen der Graphen\n",
    "Schlussendlich können nun die Graphen erstellt werden.\n",
    "Hier werden die Informationen den Achsen zugeordnet, wobei hier die Zeit auf der X-Achse und die Rückstreuuwerte auf der Y-Achse vertreten sind. Zudem werden die Label, wie die Überschrift und die Achsenbeschriftungen, sowie die Höhe und Breite der Graphik bestimmt."
   ]
  },
  {
   "cell_type": "code",
   "execution_count": null,
   "id": "5834707e",
   "metadata": {},
   "outputs": [],
   "source": [
    "# VV polarization charts\n",
    "vv_chart = alt.Chart(vv_records).mark_circle().encode(\n",
    "    x=alt.X(\"datetime:T\", axis=alt.Axis(title='Date', titleFontSize=22), scale=alt.Scale(domain=list(domain_pd))),\n",
    "    y=alt.Y(\"value\", axis=alt.Axis(title='Backscatter', titleFontSize=22)),\n",
    "    color=alt.condition(selection, \"acquisition\", alt.value(\"lightgray\"), sort=[\"D\"]),\n",
    "    opacity=alt.condition(selection, alt.value(1), alt.value(0.2))).add_selection(selection).\\\n",
    "    properties(title=\"VV Polarization\", width=1000, height=500)"
   ]
  },
  {
   "cell_type": "markdown",
   "id": "8bb804c6",
   "metadata": {},
   "source": [
    "Anschließend wird die Loess Trendlinie in die Graphik integriert, sollte der entsprechende Button vom User gewählt werden. Der entsprechende Befehl \"transform_loess\" ist von Streamlit bekannt. "
   ]
  },
  {
   "cell_type": "code",
   "execution_count": null,
   "id": "9d378265",
   "metadata": {},
   "outputs": [],
   "source": [
    "vv_loess = alt.Chart(vv_records).encode(\n",
    "    x=alt.X(\"datetime:T\", axis=alt.Axis(title='Date', titleFontSize=22), scale=alt.Scale(domain=list(domain_pd))),\n",
    "    y=alt.Y(\"value\", axis=alt.Axis(title='Backscatter', titleFontSize=22))).transform_filter(selection).\\\n",
    "    transform_loess(\"datetime\", \"value\").mark_line(color=\"black\")"
   ]
  },
  {
   "cell_type": "markdown",
   "id": "634eb443",
   "metadata": {},
   "source": [
    "Ähnliches wird für die Mittelwert Trendlinie durchgeführt:"
   ]
  },
  {
   "cell_type": "code",
   "execution_count": null,
   "id": "6b17c3ef",
   "metadata": {},
   "outputs": [],
   "source": [
    "vv_mean = alt.Chart(vv_records).mark_line(color=\"black\").transform_filter(selection).\\\n",
    "    transform_window(rolling_mean=\"mean(value)\", frame=[-5, 5]).encode(x='datetime:T', y='rolling_mean:Q')"
   ]
  },
  {
   "cell_type": "markdown",
   "id": "cc58bceb",
   "metadata": {},
   "source": [
    "Das gleiche (Erstellung der Graphen, Zufügen der Trendlinien) wird nun für die VH Polarisation erstellt:"
   ]
  },
  {
   "cell_type": "code",
   "execution_count": null,
   "id": "f05ea112",
   "metadata": {},
   "outputs": [],
   "source": [
    "# VH polarization charts\n",
    "vh_chart = alt.Chart(vh_records).mark_circle().encode(\n",
    "    x=alt.X(\"datetime:T\", axis=alt.Axis(title='Date', titleFontSize=22), scale=alt.Scale(domain=list(domain_pd))),\n",
    "    y=alt.Y(\"value\", axis=alt.Axis(title='Backscatter', titleFontSize=22)),\n",
    "    color=alt.condition(selection, \"acquisition\", alt.value(\"lightgray\"), sort=[\"D\"]),\n",
    "    opacity=alt.condition(selection, alt.value(1), alt.value(0.2))).add_selection(selection).\\\n",
    "    properties(title=\"VH Polarization\", width=1000, height=500)\n",
    "vh_loess = alt.Chart(vh_records).encode(\n",
    "    x=alt.X(\"datetime:T\", axis=alt.Axis(title='Date', titleFontSize=22), scale=alt.Scale(domain=list(domain_pd))),\n",
    "    y=alt.Y(\"value\", axis=alt.Axis(title='Backscatter', titleFontSize=22))).transform_filter(selection).\\\n",
    "    transform_loess(\"datetime\", \"value\").mark_line(color=\"black\")\n",
    "vh_mean = alt.Chart(vh_records).mark_line(color=\"black\").transform_filter(selection).\\\n",
    "    transform_window(rolling_mean=\"mean(value)\", frame=[-5, 5]).encode(x='datetime:T', y='rolling_mean:Q')"
   ]
  },
  {
   "cell_type": "markdown",
   "id": "5f62179d",
   "metadata": {},
   "source": [
    "Und erneut für die NDVI Werte:"
   ]
  },
  {
   "cell_type": "code",
   "execution_count": null,
   "id": "27035c49",
   "metadata": {},
   "outputs": [],
   "source": [
    "# NDVI charts\n",
    "ndvi_chart = alt.Chart(ndvi_records).mark_circle().encode(\n",
    "    x=alt.X(\"datetime:T\", axis=alt.Axis(title='Date', titleFontSize=22), scale=alt.Scale(domain=list(domain_pd))),\n",
    "    y=alt.Y(\"value\", axis=alt.Axis(title='NDVI Value', titleFontSize=22)),\n",
    "    color=alt.condition(selection, \"acquisition\", alt.value(\"lightgray\"), sort=[\"D\"]),\n",
    "    opacity=alt.condition(selection, alt.value(1), alt.value(0.2))).add_selection(selection).\\\n",
    "    properties(title=\"NDVI\", width=1000, height=500)\n",
    "ndvi_loess = alt.Chart(ndvi_records).encode(\n",
    "    x=alt.X(\"datetime:T\", axis=alt.Axis(title='Date', titleFontSize=22), scale=alt.Scale(domain=list(domain_pd))),\n",
    "    y=alt.Y(\"value\", axis=alt.Axis(title='NDVI Value', titleFontSize=22))).transform_filter(selection).\\\n",
    "    transform_loess(\"datetime\", \"value\").mark_line(color=\"black\")\n",
    "ndvi_mean = alt.Chart(ndvi_records).mark_line(color=\"black\").transform_filter(selection).\\\n",
    "    transform_window(rolling_mean=\"mean(value)\", frame=[-5, 5]).encode(x='datetime:T', y='rolling_mean:Q')"
   ]
  },
  {
   "cell_type": "markdown",
   "id": "9ffb2b18",
   "metadata": {},
   "source": [
    "### Statistische Trendlinien einfügen\n",
    "Die oben erstellten Trendlinien müssen nun noch mit den Auswahl-Knöpfen verknüpft werden:"
   ]
  },
  {
   "cell_type": "code",
   "execution_count": null,
   "id": "c605b316",
   "metadata": {},
   "outputs": [],
   "source": [
    "# set trend line type in charts based on user selection\n",
    "if stat_button == \"LOESS\":\n",
    "    vv_chart = vv_chart + vv_loess\n",
    "    vh_chart = vh_chart + vh_loess\n",
    "    ndvi_chart = ndvi_chart + ndvi_loess\n",
    "\n",
    "elif stat_button == \"Rolling Mean\":\n",
    "    vv_chart = vv_chart + vv_mean\n",
    "    vh_chart = vh_chart + vh_mean\n",
    "    ndvi_chart = ndvi_chart + ndvi_mean"
   ]
  },
  {
   "cell_type": "markdown",
   "id": "0a1d1be7",
   "metadata": {},
   "source": [
    "Letztlich sollen natürlich nur die Graphen visulaiert werden, welche vom User ausgwählt worden sind, das heißt die Graphen sollen nur erzeugt werden, sobald die entsprechenden Parameter (VV, VH oder NDVI) in der Auwahl enthalten sind:"
   ]
  },
  {
   "cell_type": "code",
   "execution_count": null,
   "id": "172873b5",
   "metadata": {},
   "outputs": [],
   "source": [
    "# define list of charts to be displayed, based on user selection and data availability\n",
    "chart_list = []\n",
    "if records[\"parameter\"].str.contains(\"VV\").any() and \"VV\" in param_selection:\n",
    "    chart_list.append(vv_chart)\n",
    "if records[\"parameter\"].str.contains(\"VH\").any() and \"VH\" in param_selection:\n",
    "    chart_list.append(vh_chart)\n",
    "if records[\"parameter\"].str.contains(\"NDVI\").any() and \"NDVI\" in param_selection:\n",
    "    chart_list.append(ndvi_chart)"
   ]
  },
  {
   "cell_type": "markdown",
   "id": "b7d355d2",
   "metadata": {},
   "source": [
    "Die resultierende Liste an Graphen werden im Folgenden nun final mit Hife von Altair visualisiert, wobei erneut Titel und Schriftgröße bestimmt werden."
   ]
  },
  {
   "cell_type": "code",
   "execution_count": null,
   "id": "9fd30bbe",
   "metadata": {},
   "outputs": [],
   "source": [
    "# display charts from list\n",
    "for chart in chart_list:\n",
    "    st.altair_chart(chart.configure_title(fontSize=28).configure_legend(titleFontSize=20, labelFontSize=18))"
   ]
  },
  {
   "cell_type": "markdown",
   "id": "4f28536f",
   "metadata": {},
   "source": [
    "Nach der Erzeugung der Graphen kann die Verbindung zu der Datenbank wieder getrennt werden:"
   ]
  },
  {
   "cell_type": "code",
   "execution_count": null,
   "id": "198cacb7",
   "metadata": {},
   "outputs": [],
   "source": [
    "# close connection to db\n",
    "cursor.close()\n",
    "db.close()"
   ]
  },
  {
   "cell_type": "markdown",
   "id": "f739fbf1",
   "metadata": {},
   "source": [
    "Nachdem das Skript vollständig erfolgreich durchgelaufen hat, bekommt man bei Python folgende Meldung:\n",
    "\n",
    "\"Warning: to view this Streamlit app on a browser, run it with the following command: \n",
    "streamlit run C:/Users/Laura/Desktop/UNI/2.Semester/Python_Teil_II/Abschlussprojekt/main2.py\"\n",
    "\n",
    "Gibt man nun, wie aufgefordert, diesen Befehl in das Terminal ein, öffnet sich erfolgreich die Web App im Browser."
   ]
  }
 ],
 "metadata": {
  "kernelspec": {
   "display_name": "Python 3 (ipykernel)",
   "language": "python",
   "name": "python3"
  },
  "language_info": {
   "codemirror_mode": {
    "name": "ipython",
    "version": 3
   },
   "file_extension": ".py",
   "mimetype": "text/x-python",
   "name": "python",
   "nbconvert_exporter": "python",
   "pygments_lexer": "ipython3",
   "version": "3.8.11"
  }
 },
 "nbformat": 4,
 "nbformat_minor": 5
}
